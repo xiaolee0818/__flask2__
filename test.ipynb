{
 "cells": [
  {
   "cell_type": "code",
   "execution_count": 9,
   "metadata": {},
   "outputs": [
    {
     "name": "stdout",
     "output_type": "stream",
     "text": [
      "[*********************100%***********************]  1 of 1 completed\n"
     ]
    },
    {
     "data": {
      "text/plain": [
       "0      2000-01-04\n",
       "1      2000-01-05\n",
       "2      2000-01-06\n",
       "3      2000-01-07\n",
       "4      2000-01-10\n",
       "          ...    \n",
       "5726   2023-05-03\n",
       "5727   2023-05-04\n",
       "5728   2023-05-05\n",
       "5729   2023-05-08\n",
       "5730   2023-05-10\n",
       "Name: Date, Length: 5731, dtype: datetime64[ns]"
      ]
     },
     "execution_count": 9,
     "metadata": {},
     "output_type": "execute_result"
    }
   ],
   "source": [
    "import pandas_datareader.data as pdr\n",
    "import yfinance as yf\n",
    "yf.pdr_override()\n",
    "tw_2303 = pdr.get_data_yahoo('2303.TW')\n",
    "tw_2303_1=tw_2303.reset_index()\n",
    "tw_2303_1['Date'].map(lambda x: x.strftime('%Y-%m-%d'))"
   ]
  },
  {
   "cell_type": "code",
   "execution_count": 8,
   "metadata": {},
   "outputs": [
    {
     "name": "stdout",
     "output_type": "stream",
     "text": [
      "讀取檔案\n",
      "<class 'pandas.core.frame.DataFrame'>\n",
      "RangeIndex: 5732 entries, 0 to 5731\n",
      "Data columns (total 7 columns):\n",
      " #   Column     Non-Null Count  Dtype  \n",
      "---  ------     --------------  -----  \n",
      " 0   Date       5732 non-null   object \n",
      " 1   Open       5732 non-null   float64\n",
      " 2   High       5732 non-null   float64\n",
      " 3   Low        5732 non-null   float64\n",
      " 4   Close      5732 non-null   float64\n",
      " 5   Adj Close  5732 non-null   float64\n",
      " 6   Volume     5732 non-null   int64  \n",
      "dtypes: float64(5), int64(1), object(1)\n",
      "memory usage: 313.6+ KB\n"
     ]
    },
    {
     "data": {
      "text/plain": [
       "RangeIndex(start=0, stop=5732, step=1)"
      ]
     },
     "execution_count": 8,
     "metadata": {},
     "output_type": "execute_result"
    }
   ],
   "source": [
    "import os \n",
    "from datetime import datetime\n",
    "import pandas as pd\n",
    "current=os.path.abspath(\"./\")\n",
    "current_date=datetime.now()\n",
    "stock_id=\"2303.TW\"\n",
    "filename=f\"{stock_id}_{current_date.year}_{current_date.month}_{current_date.day}.csv\"\n",
    "csv_File_path=os.path.join(current,\"data\",filename)\n",
    "if not os.path.exists(csv_File_path):\n",
    "    print(\"建立檔案\")\n",
    "else:\n",
    "    print(\"讀取檔案\")\n",
    "tw_2303=pd.read_csv(csv_File_path)\n",
    "tw_2303.info()\n",
    "tw_2303.index"
   ]
  }
 ],
 "metadata": {
  "kernelspec": {
   "display_name": "venv",
   "language": "python",
   "name": "python3"
  },
  "language_info": {
   "codemirror_mode": {
    "name": "ipython",
    "version": 3
   },
   "file_extension": ".py",
   "mimetype": "text/x-python",
   "name": "python",
   "nbconvert_exporter": "python",
   "pygments_lexer": "ipython3",
   "version": "3.11.3"
  },
  "orig_nbformat": 4
 },
 "nbformat": 4,
 "nbformat_minor": 2
}
